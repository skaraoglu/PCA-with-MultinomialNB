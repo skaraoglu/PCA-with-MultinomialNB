{
 "cells": [
  {
   "cell_type": "markdown",
   "metadata": {},
   "source": [
    "# PCA with Multinomial Naive Bayes classifier on MNIST dataset\n",
    "\n",
    "## Libraries"
   ]
  },
  {
   "cell_type": "code",
   "execution_count": 1,
   "metadata": {},
   "outputs": [],
   "source": [
    "import numpy as np\n",
    "import matplotlib.pyplot as plt\n",
    "import scipy.sparse as sp\n",
    "import tensorflow.keras as keras\n",
    "from sklearn.decomposition import PCA\n",
    "from scipy.special import logsumexp\n",
    "from sklearn.preprocessing import binarize, LabelBinarizer\n",
    "from sklearn.utils.extmath import safe_sparse_dot\n",
    "from sklearn.metrics import accuracy_score, classification_report\n",
    "from sklearn.model_selection import train_test_split\n",
    "from PIL import Image"
   ]
  },
  {
   "cell_type": "markdown",
   "metadata": {},
   "source": [
    "## Multinomial Naive Bayes Classifier"
   ]
  },
  {
   "cell_type": "code",
   "execution_count": 2,
   "metadata": {},
   "outputs": [],
   "source": [
    "class NaiveBayesBase():    \n",
    "    def predict(self, X):\n",
    "        jll = self._joint_log_likelihood(X)\n",
    "        return self.classes_[np.argmax(jll, axis=1)]\n",
    "\n",
    "    def _log_proba(self, X):\n",
    "        jll = self._joint_log_likelihood(X)\n",
    "        log_prob_x = logsumexp(jll, axis=1)\n",
    "        return jll - np.atleast_2d(log_prob_x).T\n",
    "\n",
    "    def _proba(self, X):\n",
    "        return np.exp(self._log_proba(X))\n",
    "    \n",
    "    def fit(self, X, y, sample_weight=None):\n",
    "        _, n_f = X.shape\n",
    "        lbin = LabelBinarizer()\n",
    "        Y = lbin.fit_transform(y)\n",
    "        self.classes_ = lbin.classes_\n",
    "        if Y.shape[1] == 1:\n",
    "            if len(self.classes_) == 2:\n",
    "                Y = np.concatenate((1 - Y, Y), axis=1)\n",
    "            else:\n",
    "                Y = np.ones_like(Y)\n",
    "        if sample_weight is not None:\n",
    "            Y = Y.astype(np.float64, copy=False)\n",
    "            sample_weight = np.atleast_2d(sample_weight)\n",
    "            Y *= sample_weight.T\n",
    "        n_c = Y.shape[1]\n",
    "        self.c_count_ = np.zeros(n_c, dtype=np.float64)\n",
    "        self.f_count_ = np.zeros((n_c, n_f), dtype=np.float64)\n",
    "        self._count(X, Y)\n",
    "        self._update_f_log_prob(self.alpha)\n",
    "        self.c_log_prior_ = np.full(len(self.classes_), -np.log(len(self.classes_)))\n",
    "        return self\n",
    "\n",
    "    def score(self, X, y, sample_weight=None):\n",
    "        return accuracy_score(y, self.predict(X), sample_weight=sample_weight)"
   ]
  },
  {
   "cell_type": "code",
   "execution_count": 3,
   "metadata": {},
   "outputs": [],
   "source": [
    "class MultinomialNB(NaiveBayesBase):\n",
    "    def __init__(self, alpha=1.0):\n",
    "        self.alpha = alpha\n",
    "        \n",
    "    def _count(self, X, y):\n",
    "        self.f_count_ += safe_sparse_dot(y.T, X)\n",
    "        self.c_count_ += y.sum(axis=0)\n",
    "\n",
    "    def _update_f_log_prob(self, alpha):\n",
    "        smoothed_fc = self.f_count_ + alpha\n",
    "        smoothed_cc = smoothed_fc.sum(axis=1)\n",
    "        self.f_log_prob_ = np.log(smoothed_fc) - np.log(smoothed_cc.reshape(-1, 1))\n",
    "\n",
    "    def _joint_log_likelihood(self, X):\n",
    "        return safe_sparse_dot(X, self.f_log_prob_.T) + self.c_log_prior_"
   ]
  },
  {
   "cell_type": "markdown",
   "metadata": {},
   "source": [
    "## MNIST Dataset\n",
    "\n",
    "The MNIST Dataset is a famous handwritten digit classification dataset that contains 60,000 images of handwritten 0 – 9 digits and 10,000 testing images. Each image has a label 0-9. The images are in black and white (so each pixel has 1 value), and have a 28 * 28 pixel dimension; thus, each image can be represented by a vector of size 28 * 28 = 784 where each entry is a real number that shows how dark that pixel is (the value of the pixel).\n",
    "\n",
    "MNIST Dataset can be found here:\n",
    "https://keras.io/api/datasets/mnist/"
   ]
  },
  {
   "cell_type": "code",
   "execution_count": 4,
   "metadata": {},
   "outputs": [],
   "source": [
    "(X_train, y_train), (X_test, y_test) = keras.datasets.mnist.load_data()\n",
    "X_train = [np.reshape(x, 784) for x in X_train]\n",
    "X_test = [np.reshape(x, 784) for x in X_test]"
   ]
  },
  {
   "cell_type": "code",
   "execution_count": 5,
   "metadata": {},
   "outputs": [
    {
     "name": "stdout",
     "output_type": "stream",
     "text": [
      "(60000, 784)\n",
      "(10000, 784)\n"
     ]
    }
   ],
   "source": [
    "# Normalizing the input\n",
    "X_train = np.asarray(X_train)\n",
    "X_train = X_train.astype('float32')\n",
    "X_train/=255\n",
    "X_test = np.asarray(X_test)\n",
    "X_test = X_test.astype('float32')\n",
    "X_test/=255\n",
    "print(X_train.shape)\n",
    "print(X_test.shape)"
   ]
  },
  {
   "cell_type": "code",
   "execution_count": 6,
   "metadata": {},
   "outputs": [],
   "source": [
    "X = np.concatenate((X_train, X_test), axis=0)\n",
    "y = np.concatenate((y_train, y_test), axis=0)"
   ]
  },
  {
   "cell_type": "code",
   "execution_count": 7,
   "metadata": {},
   "outputs": [
    {
     "data": {
      "text/plain": [
       "([], <a list of 0 Text yticklabel objects>)"
      ]
     },
     "execution_count": 7,
     "metadata": {},
     "output_type": "execute_result"
    },
    {
     "data": {
      "image/png": "[encoded data removed]",
      "text/plain": [
       "<Figure size 432x288 with 1 Axes>"
      ]
     },
     "metadata": {},
     "output_type": "display_data"
    }
   ],
   "source": [
    "plt.imshow(np.reshape(X_train[0], (28,28)))\n",
    "plt.title(\" Digit \" + str(y_train[0]) )\n",
    "plt.xticks([])\n",
    "plt.yticks([])"
   ]
  },
  {
   "cell_type": "markdown",
   "metadata": {},
   "source": [
    "### Multinomial NB on MNIST Dataset"
   ]
  },
  {
   "cell_type": "code",
   "execution_count": 8,
   "metadata": {},
   "outputs": [
    {
     "name": "stdout",
     "output_type": "stream",
     "text": [
      "Training score of Multinomial NB: 0.824683\n",
      "Test score of Multinomial NB: 0.836100\n"
     ]
    }
   ],
   "source": [
    "mnb = MultinomialNB().fit(X_train, y_train)\n",
    "labelsm = mnb.predict(X_test)\n",
    "print(\"Training score of Multinomial NB: %f\" % mnb.score(X_train, y_train))\n",
    "print(\"Test score of Multinomial NB: %f\" % mnb.score(X_test, y_test))"
   ]
  },
  {
   "cell_type": "code",
   "execution_count": 9,
   "metadata": {},
   "outputs": [
    {
     "name": "stdout",
     "output_type": "stream",
     "text": [
      "0.8361\n"
     ]
    }
   ],
   "source": [
    "score = accuracy_score(labelsm, y_test)\n",
    "print(score)"
   ]
  },
  {
   "cell_type": "code",
   "execution_count": 10,
   "metadata": {},
   "outputs": [
    {
     "name": "stdout",
     "output_type": "stream",
     "text": [
      "Multinomial NB Classifier report: \n",
      "\n",
      "               precision    recall  f1-score   support\n",
      "\n",
      "           0       0.92      0.93      0.93       980\n",
      "           1       0.91      0.93      0.92      1135\n",
      "           2       0.90      0.83      0.86      1032\n",
      "           3       0.80      0.84      0.82      1010\n",
      "           4       0.84      0.75      0.79       982\n",
      "           5       0.86      0.66      0.75       892\n",
      "           6       0.89      0.90      0.89       958\n",
      "           7       0.93      0.84      0.88      1028\n",
      "           8       0.66      0.80      0.72       974\n",
      "           9       0.71      0.85      0.78      1009\n",
      "\n",
      "   micro avg       0.84      0.84      0.84     10000\n",
      "   macro avg       0.84      0.83      0.83     10000\n",
      "weighted avg       0.84      0.84      0.84     10000\n",
      "\n"
     ]
    }
   ],
   "source": [
    "print(\"Multinomial NB Classifier report: \\n\\n\", classification_report(y_test, labelsm))"
   ]
  },
  {
   "cell_type": "markdown",
   "metadata": {},
   "source": [
    "## PCA\n",
    "\n",
    "n_components = 100"
   ]
  },
  {
   "cell_type": "code",
   "execution_count": 11,
   "metadata": {},
   "outputs": [
    {
     "name": "stdout",
     "output_type": "stream",
     "text": [
      "Training score of Multinomial NB: 0.806917\n",
      "Test score of Multinomial NB: 0.809900\n"
     ]
    }
   ],
   "source": [
    "pca = PCA(n_components=100, svd_solver='auto').fit_transform(X)\n",
    "pca = pca + abs(pca.min())\n",
    "pca_train, pca_test, yy_train, yy_test = train_test_split(pca, y, random_state=42, test_size=0.142854)\n",
    "mnb = MultinomialNB().fit(pca_train, yy_train)\n",
    "labelsm = mnb.predict(pca_test)\n",
    "print(\"Training score of Multinomial NB: %f\" % mnb.score(pca_train, yy_train))\n",
    "print(\"Test score of Multinomial NB: %f\" % accuracy_score(labelsm, yy_test))"
   ]
  },
  {
   "cell_type": "code",
   "execution_count": 12,
   "metadata": {},
   "outputs": [
    {
     "name": "stdout",
     "output_type": "stream",
     "text": [
      "Multinomial NB Classifier report: \n",
      "\n",
      "               precision    recall  f1-score   support\n",
      "\n",
      "           0       0.94      0.88      0.91       983\n",
      "           1       0.78      0.96      0.86      1152\n",
      "           2       0.85      0.78      0.82       967\n",
      "           3       0.72      0.76      0.74      1034\n",
      "           4       0.76      0.81      0.79       906\n",
      "           5       0.76      0.68      0.71       937\n",
      "           6       0.85      0.85      0.85       961\n",
      "           7       0.89      0.84      0.87      1055\n",
      "           8       0.82      0.71      0.76       969\n",
      "           9       0.76      0.79      0.77      1036\n",
      "\n",
      "   micro avg       0.81      0.81      0.81     10000\n",
      "   macro avg       0.81      0.81      0.81     10000\n",
      "weighted avg       0.81      0.81      0.81     10000\n",
      "\n"
     ]
    }
   ],
   "source": [
    "print(\"Multinomial NB Classifier report: \\n\\n\", classification_report(yy_test, labelsm))"
   ]
  },
  {
   "cell_type": "code",
   "execution_count": 13,
   "metadata": {},
   "outputs": [
    {
     "name": "stdout",
     "output_type": "stream",
     "text": [
      "PCA component size: 10\n",
      "Training score of Multinomial NB: 0.719117\n",
      "Test score of Multinomial NB: 0.724600\n",
      "----------------------------------------------------------------------------------------------------\n",
      "PCA component size: 25\n",
      "Training score of Multinomial NB: 0.795567\n",
      "Test score of Multinomial NB: 0.800200\n",
      "----------------------------------------------------------------------------------------------------\n",
      "PCA component size: 50\n",
      "Training score of Multinomial NB: 0.805650\n",
      "Test score of Multinomial NB: 0.810100\n",
      "----------------------------------------------------------------------------------------------------\n",
      "PCA component size: 100\n",
      "Training score of Multinomial NB: 0.806417\n",
      "Test score of Multinomial NB: 0.809800\n",
      "----------------------------------------------------------------------------------------------------\n",
      "PCA component size: 225\n",
      "Training score of Multinomial NB: 0.806667\n",
      "Test score of Multinomial NB: 0.810200\n",
      "----------------------------------------------------------------------------------------------------\n",
      "PCA component size: 400\n",
      "Training score of Multinomial NB: 0.806850\n",
      "Test score of Multinomial NB: 0.810100\n",
      "----------------------------------------------------------------------------------------------------\n"
     ]
    }
   ],
   "source": [
    "n_comps = [10, 25, 50, 100, 225, 400]\n",
    "for i in n_comps:\n",
    "    pca = PCA(n_components=i, svd_solver='auto').fit_transform(X)\n",
    "    pca = pca + abs(pca.min())\n",
    "    pca_train, pca_test, yy_train, yy_test = train_test_split(pca, y, random_state=42, test_size=0.142854)\n",
    "    mnb = MultinomialNB().fit(pca_train, yy_train)\n",
    "    labelsm = mnb.predict(pca_test)\n",
    "    print(f\"PCA component size: {i}\")\n",
    "    print(\"Training score of Multinomial NB: %f\" % mnb.score(pca_train, yy_train))\n",
    "    print(\"Test score of Multinomial NB: %f\" % accuracy_score(labelsm, yy_test))\n",
    "    print('----------'*10)"
   ]
  },
  {
   "cell_type": "code",
   "execution_count": 14,
   "metadata": {},
   "outputs": [
    {
     "name": "stdout",
     "output_type": "stream",
     "text": [
      "Training score of Multinomial NB: 0.806800\n",
      "Test score of Multinomial NB: 0.810200\n"
     ]
    }
   ],
   "source": [
    "pca = PCA(n_components=225, svd_solver='auto').fit_transform(X)\n",
    "pca = pca + abs(pca.min())\n",
    "pca_train, pca_test, yy_train, yy_test = train_test_split(pca, y, random_state=42, test_size=0.142854)\n",
    "mnb = MultinomialNB().fit(pca_train, yy_train)\n",
    "labelsm = mnb.predict(pca_test)\n",
    "print(\"Training score of Multinomial NB: %f\" % mnb.score(pca_train, yy_train))\n",
    "print(\"Test score of Multinomial NB: %f\" % accuracy_score(labelsm, yy_test))"
   ]
  },
  {
   "cell_type": "code",
   "execution_count": 15,
   "metadata": {},
   "outputs": [
    {
     "name": "stdout",
     "output_type": "stream",
     "text": [
      "Multinomial NB Classifier report: \n",
      "\n",
      "               precision    recall  f1-score   support\n",
      "\n",
      "           0       0.94      0.88      0.91       983\n",
      "           1       0.78      0.96      0.86      1152\n",
      "           2       0.85      0.78      0.81       967\n",
      "           3       0.72      0.77      0.74      1034\n",
      "           4       0.77      0.81      0.79       906\n",
      "           5       0.75      0.68      0.71       937\n",
      "           6       0.86      0.85      0.86       961\n",
      "           7       0.90      0.84      0.87      1055\n",
      "           8       0.82      0.71      0.76       969\n",
      "           9       0.76      0.79      0.77      1036\n",
      "\n",
      "   micro avg       0.81      0.81      0.81     10000\n",
      "   macro avg       0.81      0.81      0.81     10000\n",
      "weighted avg       0.81      0.81      0.81     10000\n",
      "\n"
     ]
    }
   ],
   "source": [
    "print(\"Multinomial NB Classifier report: \\n\\n\", classification_report(yy_test, labelsm))"
   ]
  },
  {
   "cell_type": "markdown",
   "metadata": {},
   "source": [
    "## New Challenge"
   ]
  },
  {
   "cell_type": "code",
   "execution_count": 16,
   "metadata": {},
   "outputs": [
    {
     "data": {
      "image/png": "[encoded data removed]",
      "text/plain": [
       "<Figure size 1440x576 with 10 Axes>"
      ]
     },
     "metadata": {
      "needs_background": "light"
     },
     "output_type": "display_data"
    }
   ],
   "source": [
    "fig = plt.figure(figsize=(20,8))\n",
    "images = []\n",
    "_X = []\n",
    "_y = [0, 1, 2, 3, 4, 5, 6, 7, 8, 9]\n",
    "for i in range(10):\n",
    "    f = \"./data/\" + str(i) + \".png\"\n",
    "    img = Image.open(f).convert(\"L\")\n",
    "    images.append(img)\n",
    "    a = np.ravel(np.asarray(img)/255)\n",
    "    _X.append(a)\n",
    "    ax = fig.add_subplot(2, 5, i+1)\n",
    "    ax.imshow(img)\n",
    "    ax.axis(\"off\")\n",
    "plt.show()"
   ]
  },
  {
   "cell_type": "code",
   "execution_count": 17,
   "metadata": {},
   "outputs": [
    {
     "name": "stdout",
     "output_type": "stream",
     "text": [
      "784\n"
     ]
    }
   ],
   "source": [
    "print(len(_X[0]))"
   ]
  },
  {
   "cell_type": "code",
   "execution_count": 18,
   "metadata": {},
   "outputs": [
    {
     "name": "stdout",
     "output_type": "stream",
     "text": [
      "Training score of Multinomial NB: 0.824683\n",
      "[8 1 8 2 6 6 6 3 3 3]\n",
      "[0, 1, 2, 3, 4, 5, 6, 7, 8, 9]\n"
     ]
    }
   ],
   "source": [
    "mnb = MultinomialNB().fit(X_train, y_train)\n",
    "labelsm = mnb.predict(_X)\n",
    "print(\"Training score of Multinomial NB: %f\" % mnb.score(X_train, y_train))\n",
    "#print(\"Test score of Multinomial NB: %f\" % mnb.score(X_test, y_test))\n",
    "print(labelsm)\n",
    "print(_y)"
   ]
  },
  {
   "cell_type": "code",
   "execution_count": null,
   "metadata": {},
   "outputs": [],
   "source": []
  }
 ],
 "metadata": {
  "kernelspec": {
   "display_name": "Python 3",
   "language": "python",
   "name": "python3"
  },
  "language_info": {
   "codemirror_mode": {
    "name": "ipython",
    "version": 3
   },
   "file_extension": ".py",
   "mimetype": "text/x-python",
   "name": "python",
   "nbconvert_exporter": "python",
   "pygments_lexer": "ipython3",
   "version": "3.7.3"
  }
 },
 "nbformat": 4,
 "nbformat_minor": 2
}
